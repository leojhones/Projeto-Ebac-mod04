{
 "cells": [
  {
   "cell_type": "markdown",
   "id": "f80d1239",
   "metadata": {},
   "source": [
    "# Tarefa 01\n",
    "\n",
    "- Leia os enunciados com atenção\n",
    "- Saiba que pode haver mais de uma resposta correta\n",
    "- Insira novas células de código sempre que achar necessário\n",
    "- Em caso de dúvidas, procure os tutores\n",
    "- Divirta-se :)\n",
    "\n",
    "#### 1)  crie uma série do pandas a partir de uma lista com os dados abaixo:\n",
    "\n",
    "Em um estudo sobre alteração na tempreatura global, A NASA disponibiliza dados de diferenças de de temperatura média da superfície terrestre relativos às médias de temperatura entre 1951 e 1980. Os dados originais podem ser vistos no site da NASA/GISS, e estão dispostos a cada década na tabela abaixo.\n",
    "\n",
    "|ano|anomalia termica|\n",
    "|:-:|:----:|\n",
    "| 1900 | -0.08 |\n",
    "| 1920 | -0.27 |\n",
    "| 1940 | 0.12 |\n",
    "| 1960 | -0.03 |\n",
    "| 1980 | 0.26 |\n",
    "| 2000 | 0.40 |\n",
    "| 2020 | 1.02 |\n",
    "\n",
    "Crie uma séries do Pandas a partir de uma lista com esses dados."
   ]
  },
  {
   "cell_type": "code",
   "execution_count": 1,
   "id": "75f47532",
   "metadata": {},
   "outputs": [
    {
     "name": "stdout",
     "output_type": "stream",
     "text": [
      "1900   -0.08\n",
      "1920   -0.27\n",
      "1940    0.12\n",
      "1960   -0.03\n",
      "1980    0.26\n",
      "2000    0.40\n",
      "2020    1.02\n",
      "dtype: float64\n"
     ]
    }
   ],
   "source": [
    "import pandas as pd\n",
    "\n",
    "# Dados fornecidos\n",
    "dados = {'ano': [1900, 1920, 1940, 1960, 1980, 2000, 2020],\n",
    "         'anomalia termica': [-0.08, -0.27, 0.12, -0.03, 0.26, 0.40, 1.02]}\n",
    "\n",
    "# Criando a série do Pandas\n",
    "serie_temperatura = pd.Series(dados['anomalia termica'], index=dados['ano'])\n",
    "\n",
    "# Exibindo a série\n",
    "print(serie_temperatura)"
   ]
  },
  {
   "cell_type": "markdown",
   "id": "9b31b8f3",
   "metadata": {},
   "source": [
    "#### 2) Coloque os anos nos índices conforme a tabela."
   ]
  },
  {
   "cell_type": "code",
   "execution_count": 2,
   "id": "5acdcd8e",
   "metadata": {},
   "outputs": [
    {
     "name": "stdout",
     "output_type": "stream",
     "text": [
      "1900   -0.08\n",
      "1920   -0.27\n",
      "1940    0.12\n",
      "1960   -0.03\n",
      "1980    0.26\n",
      "2000    0.40\n",
      "2020    1.02\n",
      "dtype: float64\n"
     ]
    }
   ],
   "source": [
    "print(serie_temperatura)"
   ]
  },
  {
   "cell_type": "markdown",
   "id": "494829a0",
   "metadata": {},
   "source": [
    "#### 3) A partir do dicionário abaixo, crie uma séries do Pandas:"
   ]
  },
  {
   "cell_type": "code",
   "execution_count": 3,
   "id": "8ce67218",
   "metadata": {},
   "outputs": [
    {
     "name": "stdout",
     "output_type": "stream",
     "text": [
      "A    0.156570\n",
      "B    0.290638\n",
      "C    0.020210\n",
      "D    0.752701\n",
      "dtype: float64\n"
     ]
    }
   ],
   "source": [
    "import pandas as pd\n",
    "import numpy as np\n",
    "\n",
    "# Dicionário de dados\n",
    "dados = {'A': np.random.rand(),\n",
    "         'B': np.random.rand(),\n",
    "         'C': np.random.rand(),\n",
    "         'D': np.random.rand()}\n",
    "\n",
    "# Criando a série do Pandas a partir do dicionário\n",
    "serie_dados = pd.Series(dados)\n",
    "\n",
    "# Exibindo a série\n",
    "print(serie_dados)"
   ]
  },
  {
   "cell_type": "markdown",
   "id": "f0ed43c0",
   "metadata": {},
   "source": [
    "#### 4) Transforme o ndarray abaixo em um dataframe. \n",
    "O numpy é capaz de gerar arrays n-dimensionais com números pseudo-aleatórios de acordo com uma variedade de distribuições, como no exemplo abaixo. Transforme esse nd-array em um DataFrame."
   ]
  },
  {
   "cell_type": "code",
   "execution_count": 4,
   "id": "3f04dc57",
   "metadata": {},
   "outputs": [
    {
     "name": "stdout",
     "output_type": "stream",
     "text": [
      "       Coluna1     Coluna2     Coluna3\n",
      "0   111.908163  100.986838  102.965424\n",
      "1   100.520104  102.305320   86.354937\n",
      "2   106.786547  106.194220   90.362715\n",
      "3    93.587270   96.750149   91.848288\n",
      "4    90.439871   98.941397  105.668067\n",
      "5    94.815954  115.896163  112.357904\n",
      "6    76.417650  114.576089   99.019592\n",
      "7    96.932244   94.733180  101.192617\n",
      "8   105.290270   87.209647  101.954637\n",
      "9   106.672146  105.877008  114.065781\n",
      "10   93.102070  120.972980  112.953941\n",
      "11   95.285205  101.941802  101.704161\n",
      "12   80.802465   96.125358   94.118869\n",
      "13   96.241546   97.743159  123.771651\n",
      "14  102.697305   97.215034  107.857261\n",
      "15   92.604429  104.223089   99.609291\n",
      "16  113.730455   95.411412   99.508974\n",
      "17  103.604975  103.511573  103.666838\n",
      "18  104.759027   95.896697   84.576591\n",
      "19  108.022140  107.336056   94.093970\n"
     ]
    }
   ],
   "source": [
    "import pandas as pd\n",
    "import numpy as np\n",
    "\n",
    "# Dados do ndarray\n",
    "arr = np.random.normal(100, 10, (20, 3))\n",
    "\n",
    "# Criando o DataFrame\n",
    "df = pd.DataFrame(arr, columns=['Coluna1', 'Coluna2', 'Coluna3'])\n",
    "\n",
    "# Exibindo o DataFrame\n",
    "print(df)"
   ]
  },
  {
   "cell_type": "markdown",
   "id": "9374c975",
   "metadata": {},
   "source": [
    "#### 5) Nomeie os índices das linhas com inteiros de 1 a 20, e as colunas com os nomes \"x1\", \"x2\", e \"x3\" respectivamente.\n"
   ]
  },
  {
   "cell_type": "code",
   "execution_count": 5,
   "id": "1a6346af",
   "metadata": {},
   "outputs": [
    {
     "name": "stdout",
     "output_type": "stream",
     "text": [
      "            x1          x2          x3\n",
      "1   111.908163  100.986838  102.965424\n",
      "2   100.520104  102.305320   86.354937\n",
      "3   106.786547  106.194220   90.362715\n",
      "4    93.587270   96.750149   91.848288\n",
      "5    90.439871   98.941397  105.668067\n",
      "6    94.815954  115.896163  112.357904\n",
      "7    76.417650  114.576089   99.019592\n",
      "8    96.932244   94.733180  101.192617\n",
      "9   105.290270   87.209647  101.954637\n",
      "10  106.672146  105.877008  114.065781\n",
      "11   93.102070  120.972980  112.953941\n",
      "12   95.285205  101.941802  101.704161\n",
      "13   80.802465   96.125358   94.118869\n",
      "14   96.241546   97.743159  123.771651\n",
      "15  102.697305   97.215034  107.857261\n",
      "16   92.604429  104.223089   99.609291\n",
      "17  113.730455   95.411412   99.508974\n",
      "18  103.604975  103.511573  103.666838\n",
      "19  104.759027   95.896697   84.576591\n",
      "20  108.022140  107.336056   94.093970\n"
     ]
    }
   ],
   "source": [
    "# Nomeando os índices das linhas e as colunas\n",
    "df.index = range(1, 21)\n",
    "df.columns = ['x1', 'x2', 'x3']\n",
    "\n",
    "# Exibindo o DataFrame atualizado\n",
    "print(df)"
   ]
  },
  {
   "cell_type": "markdown",
   "id": "3082bb06",
   "metadata": {},
   "source": [
    "#### 6) No DataFrame do exercício 5, crie uma nova coluna como sendo a média das três colunas, e dê a ela o nome de \"media\" (não recomendo colocar acentos em nomes de variáveis)."
   ]
  },
  {
   "cell_type": "code",
   "execution_count": 6,
   "id": "1b60e4fa",
   "metadata": {},
   "outputs": [
    {
     "name": "stdout",
     "output_type": "stream",
     "text": [
      "            x1          x2          x3       media\n",
      "1   111.908163  100.986838  102.965424  105.286809\n",
      "2   100.520104  102.305320   86.354937   96.393454\n",
      "3   106.786547  106.194220   90.362715  101.114494\n",
      "4    93.587270   96.750149   91.848288   94.061902\n",
      "5    90.439871   98.941397  105.668067   98.349778\n",
      "6    94.815954  115.896163  112.357904  107.690007\n",
      "7    76.417650  114.576089   99.019592   96.671110\n",
      "8    96.932244   94.733180  101.192617   97.619347\n",
      "9   105.290270   87.209647  101.954637   98.151518\n",
      "10  106.672146  105.877008  114.065781  108.871645\n",
      "11   93.102070  120.972980  112.953941  109.009664\n",
      "12   95.285205  101.941802  101.704161   99.643723\n",
      "13   80.802465   96.125358   94.118869   90.348897\n",
      "14   96.241546   97.743159  123.771651  105.918785\n",
      "15  102.697305   97.215034  107.857261  102.589867\n",
      "16   92.604429  104.223089   99.609291   98.812270\n",
      "17  113.730455   95.411412   99.508974  102.883614\n",
      "18  103.604975  103.511573  103.666838  103.594462\n",
      "19  104.759027   95.896697   84.576591   95.077438\n",
      "20  108.022140  107.336056   94.093970  103.150722\n"
     ]
    }
   ],
   "source": [
    "# Adicionando a coluna \"media\" com a média das três colunas\n",
    "df['media'] = df.mean(axis=1)\n",
    "\n",
    "# Exibindo o DataFrame atualizado\n",
    "print(df)"
   ]
  },
  {
   "cell_type": "markdown",
   "id": "7cc3170c",
   "metadata": {},
   "source": [
    "#### 7) No DataFrame do exercício 6, crie uma nova coluna chamada \"log_med\", contendo o logaritmo natural da média calculada no exercício 6 "
   ]
  },
  {
   "cell_type": "code",
   "execution_count": 7,
   "id": "5a639285",
   "metadata": {},
   "outputs": [
    {
     "name": "stdout",
     "output_type": "stream",
     "text": [
      "            x1          x2          x3       media   log_med\n",
      "1   111.908163  100.986838  102.965424  105.286809  4.656688\n",
      "2   100.520104  102.305320   86.354937   96.393454  4.568438\n",
      "3   106.786547  106.194220   90.362715  101.114494  4.616253\n",
      "4    93.587270   96.750149   91.848288   94.061902  4.543953\n",
      "5    90.439871   98.941397  105.668067   98.349778  4.588530\n",
      "6    94.815954  115.896163  112.357904  107.690007  4.679257\n",
      "7    76.417650  114.576089   99.019592   96.671110  4.571315\n",
      "8    96.932244   94.733180  101.192617   97.619347  4.581076\n",
      "9   105.290270   87.209647  101.954637   98.151518  4.586512\n",
      "10  106.672146  105.877008  114.065781  108.871645  4.690170\n",
      "11   93.102070  120.972980  112.953941  109.009664  4.691437\n",
      "12   95.285205  101.941802  101.704161   99.643723  4.601601\n",
      "13   80.802465   96.125358   94.118869   90.348897  4.503679\n",
      "14   96.241546   97.743159  123.771651  105.918785  4.662673\n",
      "15  102.697305   97.215034  107.857261  102.589867  4.630739\n",
      "16   92.604429  104.223089   99.609291   98.812270  4.593222\n",
      "17  113.730455   95.411412   99.508974  102.883614  4.633598\n",
      "18  103.604975  103.511573  103.666838  103.594462  4.640484\n",
      "19  104.759027   95.896697   84.576591   95.077438  4.554692\n",
      "20  108.022140  107.336056   94.093970  103.150722  4.636191\n"
     ]
    }
   ],
   "source": [
    "# Adicionando a coluna \"log_med\" com o logaritmo natural da média\n",
    "df['log_med'] = np.log(df['media'])\n",
    "\n",
    "# Exibindo o DataFrame atualizado\n",
    "print(df)"
   ]
  },
  {
   "cell_type": "code",
   "execution_count": null,
   "id": "c1b144f8",
   "metadata": {},
   "outputs": [],
   "source": []
  }
 ],
 "metadata": {
  "kernelspec": {
   "display_name": "Python 3 (ipykernel)",
   "language": "python",
   "name": "python3"
  },
  "language_info": {
   "codemirror_mode": {
    "name": "ipython",
    "version": 3
   },
   "file_extension": ".py",
   "mimetype": "text/x-python",
   "name": "python",
   "nbconvert_exporter": "python",
   "pygments_lexer": "ipython3",
   "version": "3.11.5"
  }
 },
 "nbformat": 4,
 "nbformat_minor": 5
}
